{
 "cells": [
  {
   "cell_type": "markdown",
   "id": "d3bfc191-8885-42ee-b0a0-bbab867c6f9f",
   "metadata": {
    "tags": []
   },
   "source": [
    "# Lab | Flow Control"
   ]
  },
  {
   "cell_type": "markdown",
   "id": "3851fcd1-cf98-4653-9c89-e003b7ec9400",
   "metadata": {},
   "source": [
    "## Exercise: Managing Customer Orders Optimized\n",
    "\n",
    "In the last lab, you were starting an online store that sells various products. To ensure smooth operations, you developed a program that manages customer orders and inventory.\n",
    "\n",
    "You did so without using flow control. Let's go a step further and improve this code.\n",
    "\n",
    "Follow the steps below to complete the exercise:\n",
    "\n",
    "1. Look at your code from the lab data structures, and improve repeated code with loops.\n",
    "\n",
    "2. Instead of asking the user to input the name of three products that a customer wants to order, do the following:\n",
    "    \n",
    "    a. Prompt the user to enter the name of a product that a customer wants to order.\n",
    "    \n",
    "    b. Add the product name to the \"customer_orders\" set.\n",
    "    \n",
    "    c. Ask the user if they want to add another product (yes/no).\n",
    "    \n",
    "    d. Continue the loop until the user does not want to add another product.\n",
    "\n",
    "3. Instead of updating the inventory by subtracting 1 from the quantity of each product, only do it for  the products that were ordered (those in \"customer_orders\")."
   ]
  },
  {
   "cell_type": "code",
   "execution_count": null,
   "id": "5a757cb8",
   "metadata": {},
   "outputs": [],
   "source": [
    "# 1\n",
    "products = [\"t-shirt\", \"mug\", \"hat\", \"book\", \"keychain\"]\n",
    "inventory = {}\n",
    "\n",
    "for product in products:\n",
    "    quantity = int(input(f\"Enter the quantity of {product}s available: \"))\n",
    "    inventory[product] = quantity\n",
    "\n",
    "print (inventory)"
   ]
  },
  {
   "cell_type": "code",
   "execution_count": 98,
   "id": "be48d775-2f94-47a0-bbda-aded87ab98b1",
   "metadata": {},
   "outputs": [
    {
     "name": "stdout",
     "output_type": "stream",
     "text": [
      "Do you want to order a product? yes/no yes \n",
      "What product the customer wants to order? book\n",
      "Do you want to order a product? yes/no yes\n",
      "What product the customer wants to order? mug\n",
      "Do you want to order a product? yes/no yes\n",
      "What product the customer wants to order? hat\n",
      "Do you want to order a product? yes/no yes\n",
      "What product the customer wants to order? mug\n",
      "Do you want to order a product? yes/no no\n"
     ]
    },
    {
     "name": "stdout",
     "output_type": "stream",
     "text": [
      "Thank you!\n",
      "{'book', 'hat', 'mug'}\n"
     ]
    }
   ],
   "source": [
    "# 2\n",
    "products = [\"t-shirt\", \"mug\", \"hat\", \"book\", \"keychain\"] \n",
    "customer_orders = set()\n",
    "\n",
    "while True:\n",
    "    order = input(\"Do you want to order a product? yes/no\").lower()\n",
    "    if order == \"no\":\n",
    "        print(\"Thank you!\")\n",
    "        break\n",
    "    \n",
    "    products = input(\"What product the customer wants to order?\")\n",
    "    customer_orders.add (products)  \n",
    "    \n",
    "    \n",
    "print (customer_orders)"
   ]
  },
  {
   "cell_type": "code",
   "execution_count": 106,
   "id": "35169bde-3e1a-4004-890b-2e0f4d2ab053",
   "metadata": {},
   "outputs": [
    {
     "name": "stdout",
     "output_type": "stream",
     "text": [
      "Write the quantity of t-shirts available in the inventory: 5\n",
      "Write the quantity of mugs available in the inventory: 6\n",
      "Write the quantity of hats available in the inventory: 7\n",
      "Write the quantity of books available in the inventory: 8\n",
      "Write the quantity of keychains available in the inventory: 9\n"
     ]
    },
    {
     "name": "stdout",
     "output_type": "stream",
     "text": [
      "{'t-shirt': 5, 'mug': 5, 'hat': 6, 'book': 7, 'keychain': 9}\n"
     ]
    }
   ],
   "source": [
    "# 3 \n",
    "inventory = {}\n",
    "inventory [\"t-shirt\"] = int(input(\"Write the quantity of t-shirts available in the inventory:\"))\n",
    "inventory [\"mug\"] = int(input(\"Write the quantity of mugs available in the inventory:\"))\n",
    "inventory [\"hat\"] = int(input(\"Write the quantity of hats available in the inventory:\"))\n",
    "inventory [\"book\"] = int(input(\"Write the quantity of books available in the inventory:\"))\n",
    "inventory [\"keychain\"] = int(input(\"Write the quantity of keychains available in the inventory:\"))\n",
    "inventory\n",
    "for product in customer_orders:\n",
    "    if product in inventory.keys():\n",
    "        inventory[product] -= 1\n",
    "print (inventory)\n"
   ]
  },
  {
   "cell_type": "code",
   "execution_count": null,
   "id": "69991797-f1ca-46bd-a316-5e259fd99b45",
   "metadata": {},
   "outputs": [],
   "source": []
  }
 ],
 "metadata": {
  "kernelspec": {
   "display_name": "Python 3 (ipykernel)",
   "language": "python",
   "name": "python3"
  },
  "language_info": {
   "codemirror_mode": {
    "name": "ipython",
    "version": 3
   },
   "file_extension": ".py",
   "mimetype": "text/x-python",
   "name": "python",
   "nbconvert_exporter": "python",
   "pygments_lexer": "ipython3",
   "version": "3.11.7"
  }
 },
 "nbformat": 4,
 "nbformat_minor": 5
}
